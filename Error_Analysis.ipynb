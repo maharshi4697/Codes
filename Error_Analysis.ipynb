{
 "cells": [
  {
   "cell_type": "markdown",
   "metadata": {},
   "source": [
    "## Import Functions"
   ]
  },
  {
   "cell_type": "code",
   "execution_count": 1,
   "metadata": {},
   "outputs": [],
   "source": [
    "import pandas as pd\n",
    "import numpy as np\n",
    "from sklearn.metrics import confusion_matrix\n",
    "import matplotlib.pyplot as plt\n",
    "import os\n",
    "import shutil"
   ]
  },
  {
   "cell_type": "markdown",
   "metadata": {},
   "source": [
    "## Read-CSV"
   ]
  },
  {
   "cell_type": "code",
   "execution_count": 5,
   "metadata": {},
   "outputs": [
    {
     "data": {
      "text/plain": [
       "Correct    165\n",
       "Wrong       65\n",
       "Name: Correctness, dtype: int64"
      ]
     },
     "execution_count": 5,
     "metadata": {},
     "output_type": "execute_result"
    }
   ],
   "source": [
    "df=pd.read_csv(\"/Users/maharshichattopadhyay/CrowdAnalytix/Coffee_Table_Top/CSV/Coffee_Material_Fourth.csv\")\n",
    "#df.head()\n",
    "df.drop(columns=[\"Unnamed: 0\"],inplace=True)\n",
    "df.reset_index(inplace=True)\n",
    "df.drop(columns=['index'],inplace=True)\n",
    "l1=df['Predictions']\n",
    "l2=df['Actual']\n",
    "l3=[]\n",
    "for i in range(len(l1)):\n",
    "    if l1[i]==l2[i]:\n",
    "        l3.append(\"Correct\")\n",
    "    else:\n",
    "        l3.append(\"Wrong\")\n",
    "df['Correctness']=l3 \n",
    "df['Correctness'].value_counts()"
   ]
  },
  {
   "cell_type": "markdown",
   "metadata": {},
   "source": [
    "## Confusion-Matrix Plot"
   ]
  },
  {
   "cell_type": "code",
   "execution_count": 4,
   "metadata": {},
   "outputs": [
    {
     "data": {
      "image/png": "[encoded data removed]",
      "text/plain": [
       "<Figure size 288x288 with 2 Axes>"
      ]
     },
     "metadata": {
      "needs_background": "light"
     },
     "output_type": "display_data"
    }
   ],
   "source": [
    "def plot_confusion_matrix(df_confusion, title='Confusion matrix', cmap=plt.cm.gray_r):\n",
    "    plt.matshow(df_confusion, cmap=cmap) # imshow\n",
    "    #plt.title(title)\n",
    "    plt.colorbar()\n",
    "    tick_marks = np.arange(len(df_confusion.columns))\n",
    "    plt.xticks(tick_marks, df_confusion.columns, rotation=45)\n",
    "    plt.yticks(tick_marks, df_confusion.index)\n",
    "    #plt.tight_layout()\n",
    "    plt.ylabel(df_confusion.index.name)\n",
    "    plt.xlabel(df_confusion.columns.name)\n",
    "df_confusion = pd.crosstab(df['Predictions'], df['Actual'], rownames=['Actual'], colnames=['Predicted'], margins=True)\n",
    "plot_confusion_matrix(df_confusion)"
   ]
  },
  {
   "cell_type": "code",
   "execution_count": 17,
   "metadata": {},
   "outputs": [],
   "source": [
    "Actual=df['Actual']\n",
    "Predicted=df['Predictions']\n",
    "x=pd.crosstab(Actual,Predicted,rownames=['Actual'], colnames=['Predicted'], margins=True)\n",
    "x.to_csv(\"/Users/maharshichattopadhyay/CrowdAnalytix/Coffee_Table_Top/CSV/Coffee-Table-Top-Material-Confusion-Matrix-InceptionResnet-1-Layer-Operation.csv\")"
   ]
  },
  {
   "cell_type": "markdown",
   "metadata": {},
   "source": [
    "## Error Analysis Total"
   ]
  },
  {
   "cell_type": "code",
   "execution_count": 6,
   "metadata": {},
   "outputs": [
    {
     "name": "stderr",
     "output_type": "stream",
     "text": [
      "/anaconda3/lib/python3.7/site-packages/pandas/core/frame.py:3697: SettingWithCopyWarning: \n",
      "A value is trying to be set on a copy of a slice from a DataFrame\n",
      "\n",
      "See the caveats in the documentation: http://pandas.pydata.org/pandas-docs/stable/indexing.html#indexing-view-versus-copy\n",
      "  errors=errors)\n",
      "/anaconda3/lib/python3.7/site-packages/ipykernel_launcher.py:4: SettingWithCopyWarning: \n",
      "A value is trying to be set on a copy of a slice from a DataFrame.\n",
      "Try using .loc[row_indexer,col_indexer] = value instead\n",
      "\n",
      "See the caveats in the documentation: http://pandas.pydata.org/pandas-docs/stable/indexing.html#indexing-view-versus-copy\n",
      "  after removing the cwd from sys.path.\n",
      "/anaconda3/lib/python3.7/site-packages/ipykernel_launcher.py:5: SettingWithCopyWarning: \n",
      "A value is trying to be set on a copy of a slice from a DataFrame.\n",
      "Try using .loc[row_indexer,col_indexer] = value instead\n",
      "\n",
      "See the caveats in the documentation: http://pandas.pydata.org/pandas-docs/stable/indexing.html#indexing-view-versus-copy\n",
      "  \"\"\"\n",
      "/anaconda3/lib/python3.7/site-packages/ipykernel_launcher.py:6: SettingWithCopyWarning: \n",
      "A value is trying to be set on a copy of a slice from a DataFrame.\n",
      "Try using .loc[row_indexer,col_indexer] = value instead\n",
      "\n",
      "See the caveats in the documentation: http://pandas.pydata.org/pandas-docs/stable/indexing.html#indexing-view-versus-copy\n",
      "  \n",
      "/anaconda3/lib/python3.7/site-packages/ipykernel_launcher.py:7: SettingWithCopyWarning: \n",
      "A value is trying to be set on a copy of a slice from a DataFrame.\n",
      "Try using .loc[row_indexer,col_indexer] = value instead\n",
      "\n",
      "See the caveats in the documentation: http://pandas.pydata.org/pandas-docs/stable/indexing.html#indexing-view-versus-copy\n",
      "  import sys\n"
     ]
    },
    {
     "data": {
      "text/plain": [
       "Metal-Top     11\n",
       "Marble-Top     5\n",
       "Wood-Top       3\n",
       "Glass-Top      3\n",
       "Name: Actual, dtype: int64"
      ]
     },
     "execution_count": 6,
     "metadata": {},
     "output_type": "execute_result"
    }
   ],
   "source": [
    "wrong=df.iloc[np.where(df['Correctness']==\"Wrong\")]\n",
    "wrong.reset_index(inplace=True)\n",
    "wrong.drop(columns=['index'],inplace=True)\n",
    "wrong['Filename']=wrong['Filename'].str.replace(\"Glass-Top/\",\"\")\n",
    "wrong['Filename']=wrong['Filename'].str.replace(\"Wood-Top/\",\"\")\n",
    "wrong['Filename']=wrong['Filename'].str.replace(\"Metal-Top/\",\"\")\n",
    "wrong['Filename']=wrong['Filename'].str.replace(\"Marble-Top/\",\"\")\n",
    "wrong['Actual'].value_counts()"
   ]
  },
  {
   "cell_type": "markdown",
   "metadata": {},
   "source": [
    "## Error Analysis Individual-Marble"
   ]
  },
  {
   "cell_type": "code",
   "execution_count": 7,
   "metadata": {},
   "outputs": [
    {
     "data": {
      "text/plain": [
       "Wood-Top     3\n",
       "Metal-Top    1\n",
       "Glass-Top    1\n",
       "Name: Predictions, dtype: int64"
      ]
     },
     "execution_count": 7,
     "metadata": {},
     "output_type": "execute_result"
    }
   ],
   "source": [
    "Marble=wrong.iloc[np.where(wrong['Actual']==\"Marble-Top\")]\n",
    "Marble['Predictions'].value_counts()"
   ]
  },
  {
   "cell_type": "code",
   "execution_count": 8,
   "metadata": {},
   "outputs": [
    {
     "data": {
      "text/html": [
       "<div>\n",
       "<style scoped>\n",
       "    .dataframe tbody tr th:only-of-type {\n",
       "        vertical-align: middle;\n",
       "    }\n",
       "\n",
       "    .dataframe tbody tr th {\n",
       "        vertical-align: top;\n",
       "    }\n",
       "\n",
       "    .dataframe thead th {\n",
       "        text-align: right;\n",
       "    }\n",
       "</style>\n",
       "<table border=\"1\" class=\"dataframe\">\n",
       "  <thead>\n",
       "    <tr style=\"text-align: right;\">\n",
       "      <th></th>\n",
       "      <th>Filename</th>\n",
       "      <th>Predictions</th>\n",
       "      <th>Actual</th>\n",
       "      <th>Correctness</th>\n",
       "    </tr>\n",
       "  </thead>\n",
       "  <tbody>\n",
       "    <tr>\n",
       "      <th>3</th>\n",
       "      <td>Marble-Top103.jpg</td>\n",
       "      <td>Wood-Top</td>\n",
       "      <td>Marble-Top</td>\n",
       "      <td>Wrong</td>\n",
       "    </tr>\n",
       "    <tr>\n",
       "      <th>4</th>\n",
       "      <td>Marble-Top141.jpg</td>\n",
       "      <td>Glass-Top</td>\n",
       "      <td>Marble-Top</td>\n",
       "      <td>Wrong</td>\n",
       "    </tr>\n",
       "    <tr>\n",
       "      <th>5</th>\n",
       "      <td>Marble-Top144.jpg</td>\n",
       "      <td>Wood-Top</td>\n",
       "      <td>Marble-Top</td>\n",
       "      <td>Wrong</td>\n",
       "    </tr>\n",
       "    <tr>\n",
       "      <th>6</th>\n",
       "      <td>Marble-Top75.jpg</td>\n",
       "      <td>Metal-Top</td>\n",
       "      <td>Marble-Top</td>\n",
       "      <td>Wrong</td>\n",
       "    </tr>\n",
       "    <tr>\n",
       "      <th>7</th>\n",
       "      <td>Marble-Top8.jpg</td>\n",
       "      <td>Wood-Top</td>\n",
       "      <td>Marble-Top</td>\n",
       "      <td>Wrong</td>\n",
       "    </tr>\n",
       "  </tbody>\n",
       "</table>\n",
       "</div>"
      ],
      "text/plain": [
       "            Filename Predictions      Actual Correctness\n",
       "3  Marble-Top103.jpg    Wood-Top  Marble-Top       Wrong\n",
       "4  Marble-Top141.jpg   Glass-Top  Marble-Top       Wrong\n",
       "5  Marble-Top144.jpg    Wood-Top  Marble-Top       Wrong\n",
       "6   Marble-Top75.jpg   Metal-Top  Marble-Top       Wrong\n",
       "7    Marble-Top8.jpg    Wood-Top  Marble-Top       Wrong"
      ]
     },
     "execution_count": 8,
     "metadata": {},
     "output_type": "execute_result"
    }
   ],
   "source": [
    "Marble"
   ]
  },
  {
   "cell_type": "markdown",
   "metadata": {},
   "source": [
    "## Error Analysis Individual-Metal"
   ]
  },
  {
   "cell_type": "code",
   "execution_count": 9,
   "metadata": {},
   "outputs": [
    {
     "data": {
      "text/plain": [
       "Wood-Top      5\n",
       "Marble-Top    5\n",
       "Glass-Top     1\n",
       "Name: Predictions, dtype: int64"
      ]
     },
     "execution_count": 9,
     "metadata": {},
     "output_type": "execute_result"
    }
   ],
   "source": [
    "Metal=wrong.iloc[np.where(wrong['Actual']==\"Metal-Top\")]\n",
    "Metal['Predictions'].value_counts()"
   ]
  },
  {
   "cell_type": "code",
   "execution_count": 10,
   "metadata": {},
   "outputs": [
    {
     "data": {
      "text/html": [
       "<div>\n",
       "<style scoped>\n",
       "    .dataframe tbody tr th:only-of-type {\n",
       "        vertical-align: middle;\n",
       "    }\n",
       "\n",
       "    .dataframe tbody tr th {\n",
       "        vertical-align: top;\n",
       "    }\n",
       "\n",
       "    .dataframe thead th {\n",
       "        text-align: right;\n",
       "    }\n",
       "</style>\n",
       "<table border=\"1\" class=\"dataframe\">\n",
       "  <thead>\n",
       "    <tr style=\"text-align: right;\">\n",
       "      <th></th>\n",
       "      <th>Filename</th>\n",
       "      <th>Predictions</th>\n",
       "      <th>Actual</th>\n",
       "      <th>Correctness</th>\n",
       "    </tr>\n",
       "  </thead>\n",
       "  <tbody>\n",
       "    <tr>\n",
       "      <th>8</th>\n",
       "      <td>Metal-Top117.jpg</td>\n",
       "      <td>Marble-Top</td>\n",
       "      <td>Metal-Top</td>\n",
       "      <td>Wrong</td>\n",
       "    </tr>\n",
       "    <tr>\n",
       "      <th>9</th>\n",
       "      <td>Metal-Top119.jpg</td>\n",
       "      <td>Marble-Top</td>\n",
       "      <td>Metal-Top</td>\n",
       "      <td>Wrong</td>\n",
       "    </tr>\n",
       "    <tr>\n",
       "      <th>10</th>\n",
       "      <td>Metal-Top152.jpg</td>\n",
       "      <td>Marble-Top</td>\n",
       "      <td>Metal-Top</td>\n",
       "      <td>Wrong</td>\n",
       "    </tr>\n",
       "    <tr>\n",
       "      <th>11</th>\n",
       "      <td>Metal-Top158.jpg</td>\n",
       "      <td>Wood-Top</td>\n",
       "      <td>Metal-Top</td>\n",
       "      <td>Wrong</td>\n",
       "    </tr>\n",
       "    <tr>\n",
       "      <th>12</th>\n",
       "      <td>Metal-Top167.jpg</td>\n",
       "      <td>Marble-Top</td>\n",
       "      <td>Metal-Top</td>\n",
       "      <td>Wrong</td>\n",
       "    </tr>\n",
       "    <tr>\n",
       "      <th>13</th>\n",
       "      <td>Metal-Top175.jpg</td>\n",
       "      <td>Marble-Top</td>\n",
       "      <td>Metal-Top</td>\n",
       "      <td>Wrong</td>\n",
       "    </tr>\n",
       "    <tr>\n",
       "      <th>14</th>\n",
       "      <td>Metal-Top20.jpg</td>\n",
       "      <td>Wood-Top</td>\n",
       "      <td>Metal-Top</td>\n",
       "      <td>Wrong</td>\n",
       "    </tr>\n",
       "    <tr>\n",
       "      <th>15</th>\n",
       "      <td>Metal-Top26.jpg</td>\n",
       "      <td>Wood-Top</td>\n",
       "      <td>Metal-Top</td>\n",
       "      <td>Wrong</td>\n",
       "    </tr>\n",
       "    <tr>\n",
       "      <th>16</th>\n",
       "      <td>Metal-Top53.jpg</td>\n",
       "      <td>Wood-Top</td>\n",
       "      <td>Metal-Top</td>\n",
       "      <td>Wrong</td>\n",
       "    </tr>\n",
       "    <tr>\n",
       "      <th>17</th>\n",
       "      <td>Metal-Top77.jpg</td>\n",
       "      <td>Wood-Top</td>\n",
       "      <td>Metal-Top</td>\n",
       "      <td>Wrong</td>\n",
       "    </tr>\n",
       "    <tr>\n",
       "      <th>18</th>\n",
       "      <td>Metal-Top81.jpg</td>\n",
       "      <td>Glass-Top</td>\n",
       "      <td>Metal-Top</td>\n",
       "      <td>Wrong</td>\n",
       "    </tr>\n",
       "  </tbody>\n",
       "</table>\n",
       "</div>"
      ],
      "text/plain": [
       "            Filename Predictions     Actual Correctness\n",
       "8   Metal-Top117.jpg  Marble-Top  Metal-Top       Wrong\n",
       "9   Metal-Top119.jpg  Marble-Top  Metal-Top       Wrong\n",
       "10  Metal-Top152.jpg  Marble-Top  Metal-Top       Wrong\n",
       "11  Metal-Top158.jpg    Wood-Top  Metal-Top       Wrong\n",
       "12  Metal-Top167.jpg  Marble-Top  Metal-Top       Wrong\n",
       "13  Metal-Top175.jpg  Marble-Top  Metal-Top       Wrong\n",
       "14   Metal-Top20.jpg    Wood-Top  Metal-Top       Wrong\n",
       "15   Metal-Top26.jpg    Wood-Top  Metal-Top       Wrong\n",
       "16   Metal-Top53.jpg    Wood-Top  Metal-Top       Wrong\n",
       "17   Metal-Top77.jpg    Wood-Top  Metal-Top       Wrong\n",
       "18   Metal-Top81.jpg   Glass-Top  Metal-Top       Wrong"
      ]
     },
     "execution_count": 10,
     "metadata": {},
     "output_type": "execute_result"
    }
   ],
   "source": [
    "Metal"
   ]
  },
  {
   "cell_type": "markdown",
   "metadata": {},
   "source": [
    "## Error Analysis Individual-Wood"
   ]
  },
  {
   "cell_type": "code",
   "execution_count": 11,
   "metadata": {},
   "outputs": [
    {
     "data": {
      "text/plain": [
       "Metal-Top     2\n",
       "Marble-Top    1\n",
       "Name: Predictions, dtype: int64"
      ]
     },
     "execution_count": 11,
     "metadata": {},
     "output_type": "execute_result"
    }
   ],
   "source": [
    "Wood=wrong.iloc[np.where(wrong['Actual']==\"Wood-Top\")]\n",
    "Wood['Predictions'].value_counts()"
   ]
  },
  {
   "cell_type": "code",
   "execution_count": 12,
   "metadata": {},
   "outputs": [
    {
     "data": {
      "text/html": [
       "<div>\n",
       "<style scoped>\n",
       "    .dataframe tbody tr th:only-of-type {\n",
       "        vertical-align: middle;\n",
       "    }\n",
       "\n",
       "    .dataframe tbody tr th {\n",
       "        vertical-align: top;\n",
       "    }\n",
       "\n",
       "    .dataframe thead th {\n",
       "        text-align: right;\n",
       "    }\n",
       "</style>\n",
       "<table border=\"1\" class=\"dataframe\">\n",
       "  <thead>\n",
       "    <tr style=\"text-align: right;\">\n",
       "      <th></th>\n",
       "      <th>Filename</th>\n",
       "      <th>Predictions</th>\n",
       "      <th>Actual</th>\n",
       "      <th>Correctness</th>\n",
       "    </tr>\n",
       "  </thead>\n",
       "  <tbody>\n",
       "    <tr>\n",
       "      <th>19</th>\n",
       "      <td>Wood-Top175.jpg</td>\n",
       "      <td>Metal-Top</td>\n",
       "      <td>Wood-Top</td>\n",
       "      <td>Wrong</td>\n",
       "    </tr>\n",
       "    <tr>\n",
       "      <th>20</th>\n",
       "      <td>Wood-Top190.jpg</td>\n",
       "      <td>Metal-Top</td>\n",
       "      <td>Wood-Top</td>\n",
       "      <td>Wrong</td>\n",
       "    </tr>\n",
       "    <tr>\n",
       "      <th>21</th>\n",
       "      <td>Wood-Top302.jpg</td>\n",
       "      <td>Marble-Top</td>\n",
       "      <td>Wood-Top</td>\n",
       "      <td>Wrong</td>\n",
       "    </tr>\n",
       "  </tbody>\n",
       "</table>\n",
       "</div>"
      ],
      "text/plain": [
       "           Filename Predictions    Actual Correctness\n",
       "19  Wood-Top175.jpg   Metal-Top  Wood-Top       Wrong\n",
       "20  Wood-Top190.jpg   Metal-Top  Wood-Top       Wrong\n",
       "21  Wood-Top302.jpg  Marble-Top  Wood-Top       Wrong"
      ]
     },
     "execution_count": 12,
     "metadata": {},
     "output_type": "execute_result"
    }
   ],
   "source": [
    "Wood"
   ]
  },
  {
   "cell_type": "markdown",
   "metadata": {},
   "source": [
    "## Error Analysis Individual-Glass"
   ]
  },
  {
   "cell_type": "code",
   "execution_count": 13,
   "metadata": {},
   "outputs": [
    {
     "data": {
      "text/plain": [
       "Wood-Top      2\n",
       "Marble-Top    1\n",
       "Name: Predictions, dtype: int64"
      ]
     },
     "execution_count": 13,
     "metadata": {},
     "output_type": "execute_result"
    }
   ],
   "source": [
    "Glass=wrong.iloc[np.where(wrong['Actual']==\"Glass-Top\")]\n",
    "Glass['Predictions'].value_counts()"
   ]
  },
  {
   "cell_type": "code",
   "execution_count": 14,
   "metadata": {},
   "outputs": [
    {
     "data": {
      "text/html": [
       "<div>\n",
       "<style scoped>\n",
       "    .dataframe tbody tr th:only-of-type {\n",
       "        vertical-align: middle;\n",
       "    }\n",
       "\n",
       "    .dataframe tbody tr th {\n",
       "        vertical-align: top;\n",
       "    }\n",
       "\n",
       "    .dataframe thead th {\n",
       "        text-align: right;\n",
       "    }\n",
       "</style>\n",
       "<table border=\"1\" class=\"dataframe\">\n",
       "  <thead>\n",
       "    <tr style=\"text-align: right;\">\n",
       "      <th></th>\n",
       "      <th>Filename</th>\n",
       "      <th>Predictions</th>\n",
       "      <th>Actual</th>\n",
       "      <th>Correctness</th>\n",
       "    </tr>\n",
       "  </thead>\n",
       "  <tbody>\n",
       "    <tr>\n",
       "      <th>0</th>\n",
       "      <td>Glass-Top201.jpg</td>\n",
       "      <td>Wood-Top</td>\n",
       "      <td>Glass-Top</td>\n",
       "      <td>Wrong</td>\n",
       "    </tr>\n",
       "    <tr>\n",
       "      <th>1</th>\n",
       "      <td>Glass-Top289.jpg</td>\n",
       "      <td>Wood-Top</td>\n",
       "      <td>Glass-Top</td>\n",
       "      <td>Wrong</td>\n",
       "    </tr>\n",
       "    <tr>\n",
       "      <th>2</th>\n",
       "      <td>Glass-Top298.jpg</td>\n",
       "      <td>Marble-Top</td>\n",
       "      <td>Glass-Top</td>\n",
       "      <td>Wrong</td>\n",
       "    </tr>\n",
       "  </tbody>\n",
       "</table>\n",
       "</div>"
      ],
      "text/plain": [
       "           Filename Predictions     Actual Correctness\n",
       "0  Glass-Top201.jpg    Wood-Top  Glass-Top       Wrong\n",
       "1  Glass-Top289.jpg    Wood-Top  Glass-Top       Wrong\n",
       "2  Glass-Top298.jpg  Marble-Top  Glass-Top       Wrong"
      ]
     },
     "execution_count": 14,
     "metadata": {},
     "output_type": "execute_result"
    }
   ],
   "source": [
    "Glass"
   ]
  },
  {
   "cell_type": "markdown",
   "metadata": {},
   "source": [
    "## Copy Error Images To a Folder"
   ]
  },
  {
   "cell_type": "code",
   "execution_count": 29,
   "metadata": {},
   "outputs": [],
   "source": [
    "src=\"/Users/maharshichattopadhyay/CrowdAnalytix/Coffee_Table_Top/Dataset/Val/\"\n",
    "dest=\"/Users/maharshichattopadhyay/CrowdAnalytix/Coffee_Table_Top/\"\n",
    "os.mkdir(dest+\"Error_Images/\")\n",
    "dest=\"/Users/maharshichattopadhyay/CrowdAnalytix/Coffee_Table_Top/Error_Images/\"\n",
    "labels=['Glass-Top','Metal-Top','Marble-Top',\"Wood-Top\"]\n",
    "image=wrong['Filename']\n",
    "prediction=wrong['Predictions']\n",
    "for i in range(len(wrong['Filename'])):\n",
    "    for j in labels:\n",
    "        src_image=src+j+\"/\"+image[i]\n",
    "        if not os.path.isdir(dest+j):\n",
    "            os.mkdir(dest+j)\n",
    "        if not os.path.isdir(dest+j+\"/\"+prediction[i]):\n",
    "            os.mkdir(dest+j+\"/\"+prediction[i])\n",
    "        dest_image=dest+j+\"/\"+prediction[i]+\"/\"+image[i]\n",
    "        if os.path.isfile(src_image):\n",
    "            shutil.copy(src_image,dest_image)"
   ]
  }
 ],
 "metadata": {
  "kernelspec": {
   "display_name": "Python 3",
   "language": "python",
   "name": "python3"
  },
  "language_info": {
   "codemirror_mode": {
    "name": "ipython",
    "version": 3
   },
   "file_extension": ".py",
   "mimetype": "text/x-python",
   "name": "python",
   "nbconvert_exporter": "python",
   "pygments_lexer": "ipython3",
   "version": "3.7.1"
  }
 },
 "nbformat": 4,
 "nbformat_minor": 2
}
